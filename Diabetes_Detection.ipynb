{
  "nbformat": 4,
  "nbformat_minor": 0,
  "metadata": {
    "colab": {
      "name": "Diabetes Detection",
      "provenance": [],
      "collapsed_sections": [],
      "toc_visible": true,
      "authorship_tag": "ABX9TyOjs1/8KZQH6uTmoJioE4Nl",
      "include_colab_link": true
    },
    "kernelspec": {
      "name": "python3",
      "display_name": "Python 3"
    }
  },
  "cells": [
    {
      "cell_type": "markdown",
      "metadata": {
        "id": "view-in-github",
        "colab_type": "text"
      },
      "source": [
        "<a href=\"https://colab.research.google.com/github/DineshAnalyticsandAI/Diabetes-Detection/blob/master/Diabetes_Detection.ipynb\" target=\"_parent\"><img src=\"https://colab.research.google.com/assets/colab-badge.svg\" alt=\"Open In Colab\"/></a>"
      ]
    },
    {
      "cell_type": "markdown",
      "metadata": {
        "id": "bfHH3LiCrvlA"
      },
      "source": [
        "# Diabetes Detection - Machine Learning Model & Web Application"
      ]
    },
    {
      "cell_type": "markdown",
      "metadata": {
        "id": "A66ZDMFevVeF"
      },
      "source": [
        "### Project Overview\r\n",
        "Business Domain:  Healthcare:  Diabetes\r\n",
        "Diabetes is a chronic, metabolic disease characterized by elevated levels of blood glucose (or blood sugar), which leads over time to serious damage to the heart, blood vessels, eyes, kidneys and nerves. The most common is type 2 diabetes, usually in adults, which occurs when the body becomes resistant to insulin or doesn't make enough insulin. In the past three decades the prevalence of type 2 diabetes has risen dramatically in countries of all income levels. Type 1 diabetes, once known as juvenile diabetes or insulin-dependent diabetes, is a chronic condition in which the pancreas produces little or no insulin by itself. For people living with diabetes, access to affordable treatment, including insulin, is critical to their survival. There is a globally agreed target to halt the rise in diabetes and obesity by 2025. \r\n",
        "\r\n",
        "About 422 million people worldwide have diabetes, the majority living in low-and middle-income countries, and 1.6 million deaths are directly attributed to diabetes each year. Both the number of cases and the prevalence of diabetes have been steadily increasing over the past few decades. \r\n",
        "International Diabetes Federation Key Facts \r\n",
        "(https://www.idf.org/aboutdiabetes/what-is-diabetes/facts-figures.html ): \r\n",
        "•\tIn year 2019 , Approximately 463 million adults (20-79 years) were living with diabetes; by 2045 this will rise to 700 million\r\n",
        "•\tThe proportion of people with type 2 diabetes is increasing in most countries\r\n",
        "•\t79% of adults with diabetes were living in low- and middle-income countries\r\n",
        "•\t1 in 5 of the people who are above 65 years old have diabetes\r\n",
        "•\t1 in 2 (232 million) people with diabetes were undiagnosed\r\n",
        "•\tDiabetes caused 4.2 million deaths\r\n",
        "•\tDiabetes caused at least USD 760 billion dollars in health expenditure in 2019 – 10% of total spending on adults\r\n",
        "•\tMore than 1.1 million children and adolescents are living with type 1 diabetes\r\n",
        "•\tMore than 20 million live births (1 in 6 live births) are affected by diabetes during pregnancy\r\n"
      ]
    },
    {
      "cell_type": "markdown",
      "metadata": {
        "id": "1G7fIPjst_XY"
      },
      "source": [
        "### Problem Statement\r\n",
        "Diabetes is one of the major chronic diseases in the world.  Early detection and management of disease is key influencer which can help in controlling diabetes. There is need to build a Diabetes Detection web application which can predict whether a person has diabetes or not based on various medical predictors such as glucose level, body mass-index (BMI), Blood pressure, Insulin, Skin Thickness, Age, number of pregnancies and so on.   Web application should use latest and one of the best machine learning model to detect diabetes.  \r\n",
        "This application will be useful for people to proactively identify if they are diabetic or not using their phone/laptop with internet connection.  \r\n"
      ]
    },
    {
      "cell_type": "markdown",
      "metadata": {
        "id": "DuasabNMuGih"
      },
      "source": [
        "### Solution Overview\r\n",
        "We will be following below steps to build Diabetes detection web application.   This is a supervised machine learning classification problem.  We will perform below steps,\r\n",
        "\r\n",
        "**•\tData Acquisition &  EDA**\r\n",
        "o\tData Collection:  Research and identify dataset for training Diabetes detection machine learning model.  We will utilize Kaggle Pima Indian Diabetes dataset.\r\n",
        "\r\n",
        "**o\tPerform Exploratory data on data** :   Understand data , features and correlations \r\n",
        "•\tModel Training & Selection\r\n",
        "\r\n",
        "**o\tDevelop, train and validate multiple models** and select best model\r\n",
        "•\tEvaluate model & Selection\r\n",
        "o\t   Evaluate and select best models\r\n",
        "o\t   Generate performance metrics such as F1 score, \r\n",
        "     Precision and Recall\r\n",
        "\r\n",
        "**•\tDevelop Web application**\r\n",
        "o\tUse Streamlit to build web application\r\n",
        "\r\n",
        "\r\n",
        "**•\tDeploy Web application **\r\n",
        "o\tDeploy web application using Heroku (Cloud application platform)\r\n"
      ]
    },
    {
      "cell_type": "markdown",
      "metadata": {
        "id": "xzSmJ5rYussm"
      },
      "source": [
        "# Analysis"
      ]
    },
    {
      "cell_type": "markdown",
      "metadata": {
        "id": "WAMroSDGuxsA"
      },
      "source": [
        "### Data Exploration"
      ]
    },
    {
      "cell_type": "markdown",
      "metadata": {
        "id": "p_g5f8b7vC7W"
      },
      "source": [
        "### Exploratory Visualization"
      ]
    },
    {
      "cell_type": "markdown",
      "metadata": {
        "id": "1nC5y64fvLBG"
      },
      "source": [
        "### Algorithms and Techniques"
      ]
    }
  ]
}