{
  "nbformat": 4,
  "nbformat_minor": 0,
  "metadata": {
    "colab": {
      "name": "Diabetes Detection",
      "provenance": [],
      "authorship_tag": "ABX9TyNNxVcnKRQQg/2+3/sPkSLi",
      "include_colab_link": true
    },
    "kernelspec": {
      "name": "python3",
      "display_name": "Python 3"
    }
  },
  "cells": [
    {
      "cell_type": "markdown",
      "metadata": {
        "id": "view-in-github",
        "colab_type": "text"
      },
      "source": [
        "<a href=\"https://colab.research.google.com/github/DineshAnalyticsandAI/Diabetes-Detection/blob/master/Diabetes_Detection.ipynb\" target=\"_parent\"><img src=\"https://colab.research.google.com/assets/colab-badge.svg\" alt=\"Open In Colab\"/></a>"
      ]
    },
    {
      "cell_type": "markdown",
      "metadata": {
        "id": "s0saSKhjoOVw"
      },
      "source": [
        ""
      ]
    },
    {
      "cell_type": "markdown",
      "metadata": {
        "id": "q0b9h-K2okUA"
      },
      "source": [
        "**Diabetes Detection Algorithm**\r\n",
        "\r\n",
        "Diabetes is one of the major chronic diseases in the world.  Early detection and management of disease is key influencer which can help in controlling diabetes. There is need to build a Diabetes Detection web application which can predict whether a person has diabetes or not based on various medical predictors such as glucose level, body mass-index (BMI), Blood pressure, Insulin, Skin Thickness, Age, number of pregnancies and so on.   Web application should use latest and one of the best machine learning model to detect diabetes.  \r\n",
        "\r\n",
        "This application will be useful for people to proactively identify if they are diabetic or not using their phone/laptop with internet connection.  \r\n"
      ]
    },
    {
      "cell_type": "code",
      "metadata": {
        "id": "v6AzZgYZomNy"
      },
      "source": [
        "Import Libraries"
      ],
      "execution_count": null,
      "outputs": []
    },
    {
      "cell_type": "code",
      "metadata": {
        "id": "3OHzeW0-pMvl"
      },
      "source": [
        ""
      ],
      "execution_count": null,
      "outputs": []
    }
  ]
}